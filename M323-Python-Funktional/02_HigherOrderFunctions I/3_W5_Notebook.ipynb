{
  "cells": [
    {
      "cell_type": "markdown",
      "id": "9b5125b2",
      "metadata": {
        "id": "9b5125b2"
      },
      "source": [
        "## 1 Funktionen als Objekte (First-Class Objects)"
      ]
    },
    {
      "cell_type": "code",
      "execution_count": null,
      "id": "0a226e4c",
      "metadata": {
        "id": "0a226e4c",
        "outputId": "9ca1a272-41a8-401a-88db-b38bc85e05db",
        "colab": {
          "base_uri": "https://localhost:8080/"
        }
      },
      "outputs": [
        {
          "output_type": "stream",
          "name": "stdout",
          "text": [
            "Hallo, Alice\n"
          ]
        }
      ],
      "source": [
        "def greet(name):\n",
        "    return f\"Hallo, {name}\"\n",
        "\n",
        "x = greet  # Funktion in Variable speichern\n",
        "print(x(\"Alice\"))  # Erwartet: Hallo, Alice"
      ]
    },
    {
      "cell_type": "markdown",
      "id": "481f3b9c",
      "metadata": {
        "id": "481f3b9c"
      },
      "source": [
        "## 2 Higher-Order Function Beispiel"
      ]
    },
    {
      "cell_type": "code",
      "execution_count": null,
      "id": "0b59e4c0",
      "metadata": {
        "id": "0b59e4c0",
        "outputId": "22d53fb8-93d8-468f-dccb-0e710c07295c",
        "colab": {
          "base_uri": "https://localhost:8080/"
        }
      },
      "outputs": [
        {
          "output_type": "stream",
          "name": "stdout",
          "text": [
            "5\n",
            "7\n"
          ]
        }
      ],
      "source": [
        "def apply_twice(func, value):\n",
        "    return func(func(value))\n",
        "\n",
        "print(apply_twice(abs, -5))  # abs(-5)=5 -> abs(5)=5\n",
        "print(apply_twice(str, 7))   # str(7) = '7' -> str('7') = '7'"
      ]
    },
    {
      "cell_type": "markdown",
      "id": "234490d6",
      "metadata": {
        "id": "234490d6"
      },
      "source": [
        "## 3 map: Funktion auf alle anwenden"
      ]
    },
    {
      "cell_type": "code",
      "execution_count": null,
      "id": "c085cc0d",
      "metadata": {
        "id": "c085cc0d",
        "outputId": "66db018b-6998-4e4b-aebb-4ef5ba964a45",
        "colab": {
          "base_uri": "https://localhost:8080/"
        }
      },
      "outputs": [
        {
          "output_type": "stream",
          "name": "stdout",
          "text": [
            "[5, 4, 6]\n"
          ]
        }
      ],
      "source": [
        "words = [\"Apfel\", \"Kiwi\", \"Banane\"]\n",
        "map_example = map(len, words)\n",
        "print(list(map_example))  # Erwartet: [5, 4, 6]"
      ]
    },
    {
      "cell_type": "markdown",
      "id": "7acde68d",
      "metadata": {
        "id": "7acde68d"
      },
      "source": [
        "## 4 filter: Auswahl mit Funktion"
      ]
    },
    {
      "cell_type": "code",
      "execution_count": null,
      "id": "498f2109",
      "metadata": {
        "id": "498f2109",
        "outputId": "5bda9ca7-faa3-458e-fe00-1c26a5445ae0",
        "colab": {
          "base_uri": "https://localhost:8080/"
        }
      },
      "outputs": [
        {
          "output_type": "stream",
          "name": "stdout",
          "text": [
            "[4, 8, 10]\n"
          ]
        }
      ],
      "source": [
        "numbers = [3, 4, 7, 8, 10]\n",
        "filter_example = filter(lambda x: x % 2 == 0, numbers)\n",
        "print(list(filter_example))  # Erwartet: [4, 8, 10]"
      ]
    },
    {
      "cell_type": "markdown",
      "id": "8dd69edb",
      "metadata": {
        "id": "8dd69edb"
      },
      "source": [
        "## 4b filter mit Lambda für Startbuchstaben"
      ]
    },
    {
      "cell_type": "code",
      "execution_count": null,
      "id": "57c79b66",
      "metadata": {
        "id": "57c79b66",
        "outputId": "e1e1a5d3-3b43-464d-b801-790403574d1c",
        "colab": {
          "base_uri": "https://localhost:8080/"
        }
      },
      "outputs": [
        {
          "output_type": "stream",
          "name": "stdout",
          "text": [
            "['Apfel', 'Ananas']\n"
          ]
        }
      ],
      "source": [
        "words = [\"Apfel\", \"Banane\", \"Ananas\"]\n",
        "filtered = filter(lambda s: s.startswith(\"A\"), words)\n",
        "print(list(filtered))  # Erwartet: ['Apfel', 'Ananas']"
      ]
    },
    {
      "cell_type": "markdown",
      "id": "2cf38540",
      "metadata": {
        "id": "2cf38540"
      },
      "source": [
        "## 5 List Comprehensions: Python-Alternative"
      ]
    },
    {
      "cell_type": "code",
      "execution_count": null,
      "id": "c34d40ea",
      "metadata": {
        "id": "c34d40ea",
        "outputId": "0cf20f1e-428f-4bd0-ea75-5e57fb69788e",
        "colab": {
          "base_uri": "https://localhost:8080/"
        }
      },
      "outputs": [
        {
          "output_type": "stream",
          "name": "stdout",
          "text": [
            "[5, 4, 6]\n",
            "[4, 8, 10]\n"
          ]
        }
      ],
      "source": [
        "print([len(word) for word in [\"Apfel\", \"Kiwi\", \"Banane\"]])  # [5, 4, 6]\n",
        "print([x for x in [3, 4, 7, 8, 10] if x % 2 == 0])          # [4, 8, 10]"
      ]
    }
  ],
  "metadata": {
    "language_info": {
      "name": "python"
    },
    "colab": {
      "provenance": []
    },
    "kernelspec": {
      "name": "python3",
      "display_name": "Python 3"
    }
  },
  "nbformat": 4,
  "nbformat_minor": 5
}