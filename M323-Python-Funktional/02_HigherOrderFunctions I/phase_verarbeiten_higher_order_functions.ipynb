{
  "cells": [
    {
      "cell_type": "markdown",
      "id": "efaae023",
      "metadata": {
        "id": "efaae023"
      },
      "source": [
        "# Phase **„Verarbeiten“** – Praktisches Üben mit Higher‑Order Functions\n",
        "\n",
        "Dieses interaktive Notebook begleitet dich durch mehrere kurze Aufgaben, in denen du Funktionen höherer Ordnung (`map`, `filter`, `lambda`) sowie List Comprehensions anwendest. Arbeite alleine oder zu zweit im Pair‑Programming‑Modus."
      ]
    },
    {
      "cell_type": "markdown",
      "id": "81bcf279",
      "metadata": {
        "id": "81bcf279"
      },
      "source": [
        "## 1. Aufgaben"
      ]
    },
    {
      "cell_type": "markdown",
      "id": "f2e5de8b",
      "metadata": {
        "id": "f2e5de8b"
      },
      "source": [
        "### A) Quadrate aller geraden Zahlen\n",
        "\n",
        "**Gegeben:** `zahlen = [1, 2, 3, 4, 5, 6]`\n",
        "\n",
        "**Auftrag:** Erstelle eine neue Liste, die **nur die Quadrate der geraden Zahlen** enthält!\n",
        "\n",
        "- Variante a) mit `filter` **und** `map`\n",
        "- Variante b) mit **List Comprehension**\n"
      ]
    },
    {
      "cell_type": "code",
      "execution_count": 22,
      "id": "ff7107b6",
      "metadata": {
        "id": "ff7107b6"
      },
      "outputs": [
        {
          "name": "stdout",
          "output_type": "stream",
          "text": [
            "[4, 16, 36]\n",
            "[4, 16, 36]\n"
          ]
        }
      ],
      "source": [
        "# Aufgabe A\n",
        "zahlen = [1, 2, 3, 4, 5, 6]\n",
        "\n",
        "# Variante a) – filter + map\n",
        "# Speichere das Ergebnis in einer Variablen, z. B. quadrate_filtermap\n",
        "# Tipp: Verwende filter(...) um nur die geraden Zahlen zu behalten\n",
        "#       und map(...) um diese zu quadrieren\n",
        "quadriert = list(map(lambda q: pow(q, 2), zahlen))\n",
        "gerade = list(filter(lambda g: g % 2 == 0, quadriert))\n",
        "print(gerade)\n",
        "\n",
        "# Variante b) – List Comprehension\n",
        "# Speichere das Ergebnis in einer Variablen, z. B. quadrate_comp\n",
        "# Tipp: Baue die Liste mit [x ** 2 for ... if ...]\n",
        "print([x for x in map(lambda c: pow(c, 2), zahlen) if x % 2 == 0])\n"
      ]
    },
    {
      "cell_type": "markdown",
      "id": "b693e1aa",
      "metadata": {
        "id": "b693e1aa"
      },
      "source": [
        "### B) Studenten filtern nach Note\n",
        "\n",
        "**Gegeben:**\n",
        "```python\n",
        "studenten = [\n",
        "    {\"name\": \"Anna\", \"note\": 5.0},\n",
        "    {\"name\": \"Ben\", \"note\": 3.5},\n",
        "    {\"name\": \"Cem\", \"note\": 4.0}\n",
        "]\n",
        "```\n",
        "\n",
        "**Auftrag:** Nutze `filter`, um alle Studierenden zu erhalten, die **bestanden** haben (Note ≥ 4)."
      ]
    },
    {
      "cell_type": "code",
      "execution_count": null,
      "id": "c49feed2",
      "metadata": {
        "id": "c49feed2"
      },
      "outputs": [],
      "source": [
        "# Aufgabe B\n",
        "studenten = [\n",
        "    {\"name\": \"Anna\", \"note\": 5.0},\n",
        "    {\"name\": \"Ben\", \"note\": 3.5},\n",
        "    {\"name\": \"Cem\", \"note\": 4.0}\n",
        "]\n",
        "\n",
        "# Ziel: Wir wollen alle bestandenen Studierenden herausfiltern.\n",
        "# - Die Daten liegen in einer Liste von Dictionaries.\n",
        "# - Jedes Dictionary enthält einen \"name\" und eine \"note\".\n",
        "# - Bestanden bedeutet: note >= 4.0\n",
        "#\n",
        "# Schritt 1: Überlege dir eine passende Bedingung (if).\n",
        "#            Beispiel: student[\"note\"] >= 4.0\n",
        "# Schritt 2: Wähle eine Methode:\n",
        "#    a) filter(...)  → liefert ein Iterator, der die Bedingung anwendet\n",
        "#    b) List Comprehension → kompakte Schreibweise\n",
        "# Schritt 3: Speichere das Ergebnis in einer Variablen, z. B. bestandene_studenten\n",
        "\n",
        "# TODO: Ergänze deinen Code hier, um alle bestandenen Studierenden zu filtern\n"
      ]
    },
    {
      "cell_type": "markdown",
      "id": "ade751b6",
      "metadata": {
        "id": "ade751b6"
      },
      "source": [
        "### C) Flächenberechnung mit `map` & Lambda\n",
        "\n",
        "**Gegeben:**\n",
        "```python\n",
        "formen = [(\"Kreis\", 3), (\"Rechteck\", 2, 4)]\n",
        "```\n",
        "\n",
        "**Auftrag:**\n",
        "1. Schreibe eine Funktion `flaeche(form)`, die für\n",
        "   - **Kreise** die Fläche (`π * r²`)\n",
        "   - **Rechtecke** (`a * b`)\n",
        "   berechnet.\n",
        "2. Wende diese Funktion mit `map` auf alle Elemente in `formen` an."
      ]
    },
    {
      "cell_type": "code",
      "execution_count": null,
      "id": "ad925ac8",
      "metadata": {
        "id": "ad925ac8"
      },
      "outputs": [],
      "source": [
        "# Aufgabe C\n",
        "from math import pi\n",
        "\n",
        "formen = [(\"Kreis\", 3), (\"Rechteck\", 2, 4)]\n",
        "\n",
        "def flaeche(form):\n",
        "    \"\"\"\n",
        "    Gib die Fläche der übergebenen Form zurück.\n",
        "\n",
        "    Parameter\n",
        "    ---------\n",
        "    form : Tupel\n",
        "        - Für einen Kreis: (\"Kreis\", radius)\n",
        "        - Für ein Rechteck: (\"Rechteck\", breite, hoehe)\n",
        "\n",
        "    Rückgabe\n",
        "    --------\n",
        "    float\n",
        "        Die berechnete Fläche.\n",
        "    \"\"\"\n",
        "    # TODO: Implementieren\n",
        "     # 1. Prüfe, ob form[0] == \"Kreis\"\n",
        "    #    → benutze pi * radius ** 2\n",
        "    # 2. Prüfe, ob form[0] == \"Rechteck\"\n",
        "    #    → benutze breite * höhe\n",
        "    # 3. Falls der Typ unbekannt ist:\n",
        "    #    → wirf einen Fehler mit raise ValueError(\"Unbekannte Form\")\n",
        "    pass\n",
        "\n",
        "# TODO: Verwende map, um die Flächen aller Formen zu berechnen\n",
        "# - map erwartet eine Funktion und eine Liste\n",
        "# - Hier: Funktion = flaeche, Liste = formen\n",
        "# - Ergebnis von map(...) in eine Liste umwandeln\n",
        "# - Speichere das Resultat in einer Variablen flaechen\n",
        "flaechen = None  # Ergebnisvariable anlegen\n"
      ]
    },
    {
      "cell_type": "markdown",
      "id": "b1a123fa",
      "metadata": {
        "id": "b1a123fa"
      },
      "source": [
        "### D) Bonus: Wörter in Grossbuchstaben\n",
        "\n",
        "**Gegeben:** `woerter = [\"hallo\", \"welt\", \"python\"]`\n",
        "\n",
        "**Auftrag:** Schreibe alle Wörter in Grossbuchstaben (Uppercase)."
      ]
    },
    {
      "cell_type": "code",
      "execution_count": null,
      "id": "31f6a42c",
      "metadata": {
        "id": "31f6a42c"
      },
      "outputs": [],
      "source": [
        "# Aufgabe D\n",
        "woerter = [\"hallo\", \"welt\", \"python\"]\n",
        "\n",
        "# Ziel: Alle Wörter in der Liste sollen in GROSSBUCHSTABEN umgewandelt werden.\n",
        "#\n",
        "# Hinweise:\n",
        "# - Jedes Element in woerter ist ein String.\n",
        "# - Strings besitzen die Methode .upper(), die ein neues Wort in Grossbuchstaben zurückgibt.\n",
        "#   Beispiel: \"hallo\".upper() -> \"HALLO\"\n",
        "#\n",
        "# Mögliche Vorgehensweisen:\n",
        "# 1. Mit map(...) und einer Funktion (z. B. str.upper) arbeiten.\n",
        "# 2. Mit einer List Comprehension arbeiten.\n",
        "#\n",
        "# Schritt 1: Wähle eine Methode.\n",
        "# Schritt 2: Speichere das Ergebnis in einer neuen Variablen,\n",
        "#            z. B. woerter_gross.\n",
        "\n",
        "# TODO: Ergänze deinen Code hier, um alle Wörter grosszuschreiben\n"
      ]
    },
    {
      "cell_type": "markdown",
      "id": "f267fafe",
      "metadata": {
        "id": "f267fafe"
      },
      "source": [
        "## 2. Arbeitsorganisation\n",
        "- **Arbeitsform:** Einzel‑ oder Zweierteam (Fahrer/Navigator).\n",
        "- **Ziel:** Verschiedene Python‑Werkzeuge (map, filter, lambda, List Comprehension) ausprobieren und vergleichen."
      ]
    },
    {
      "cell_type": "markdown",
      "id": "de14fc97",
      "metadata": {
        "id": "de14fc97"
      },
      "source": [
        "## 3. Reflexion & Quiz\n",
        "*Diskussion:* Welcher Ansatz war am verständlichsten? Wann ist List Comprehension praktischer als `map`/`filter`?"
      ]
    },
    {
      "cell_type": "markdown",
      "id": "9c220bfc",
      "metadata": {
        "id": "9c220bfc"
      },
      "source": [
        "## 4. Tafelbild\n",
        "| Aufgabe | filter + map | List Comprehension | Lambda | Ergebnis |\n",
        "|---------|--------------|--------------------|--------|----------|\n",
        "| Gerade Quadrate | ✅ | ✅ | ✅ | … |\n",
        "| Studenten filtern | ✅ | | ✅ | … |\n",
        "| Flächen Formen | ✅ | | ✅ | … |\n",
        "| Wörter upper | ✅ | ✅ | | … |"
      ]
    },
    {
      "cell_type": "markdown",
      "id": "fa8e9023",
      "metadata": {
        "id": "fa8e9023"
      },
      "source": [
        "---\n",
        "**Tipp:** Probiere verschiedene Lösungswege aus und erkläre deinen Ansatz deinem Lernpartner oder deiner Lernpartnerin. Stelle dir gegenseitig Verständnisfragen, um das Gelernte zu festigen!"
      ]
    },
    {
      "cell_type": "markdown",
      "id": "713ebd97",
      "metadata": {
        "id": "713ebd97"
      },
      "source": [
        "Copyright 2025 [Markus Ineichen](mailto:markus.ineichen1@sluz.ch)\n",
        "\n",
        "Code licence: [MIT License](https://mit-license.org/)\n",
        "\n",
        "Text license: [Creative Commons Attribution-NonCommercial-ShareAlike 4.0 International](https://creativecommons.org/licenses/by-nc-sa/4.0/)"
      ]
    }
  ],
  "metadata": {
    "colab": {
      "provenance": []
    },
    "kernelspec": {
      "display_name": ".venv",
      "language": "python",
      "name": "python3"
    },
    "language_info": {
      "codemirror_mode": {
        "name": "ipython",
        "version": 3
      },
      "file_extension": ".py",
      "mimetype": "text/x-python",
      "name": "python",
      "nbconvert_exporter": "python",
      "pygments_lexer": "ipython3",
      "version": "3.13.3"
    }
  },
  "nbformat": 4,
  "nbformat_minor": 5
}
