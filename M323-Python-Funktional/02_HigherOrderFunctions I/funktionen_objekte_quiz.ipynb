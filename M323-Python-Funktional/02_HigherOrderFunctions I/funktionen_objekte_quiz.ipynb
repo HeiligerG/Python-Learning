{
  "cells": [
    {
      "cell_type": "markdown",
      "id": "cb4dc7c9",
      "metadata": {
        "id": "cb4dc7c9"
      },
      "source": [
        "# 🔍 Quiz: Funktionen als Objekte in Python\n",
        "Aktiviere dein Vorwissen zu Higher‑Order Functions."
      ]
    },
    {
      "cell_type": "markdown",
      "id": "05e33506",
      "metadata": {
        "id": "05e33506"
      },
      "source": [
        "## Aufgabe 1 – Multiple Choice  \n",
        "Markiere **alle** Zeilen, in denen eine Funktion **als Argument** übergeben wird.\n",
        "\n",
        "```python\n",
        "1. sorted(['abc', 'a', 'abcd'], key=len)\n",
        "2. max([1, 2, 3], key=abs)\n",
        "3. map(upper, ['abc', 'def'])\n",
        "4. filter(str.isdigit, ['42', 'foo', '99'])\n",
        "5. print(sum)\n",
        "```\n",
        "\n",
        "*Notiere deine Auswahl als Liste in der Variable `auswahl1` (z. B. `[1, 3]`) und führe die Zelle unten aus.*\n"
      ]
    },
    {
      "cell_type": "code",
      "execution_count": null,
      "id": "188289df",
      "metadata": {
        "id": "188289df",
        "outputId": "e2369073-c387-4ea5-c639-a5fb3fe51d3f",
        "colab": {
          "base_uri": "https://localhost:8080/"
        }
      },
      "outputs": [
        {
          "output_type": "stream",
          "name": "stdout",
          "text": [
            "❌ Nicht ganz. Richtige Antworten: [1, 2, 3, 4]\n"
          ]
        }
      ],
      "source": [
        "import sys\n",
        "\n",
        "# 👉 Trage hier deine Auswahl ein:\n",
        "auswahl1 = []\n",
        "\n",
        "def check():\n",
        "    code = [49, 50, 51, 52]\n",
        "    korrekt = set([int(chr(c)) for c in code])\n",
        "    if set(auswahl1) == korrekt:\n",
        "        print(\"✅ Richtig – du hast alle Zeilen erkannt!\")\n",
        "    else:\n",
        "        print(\"❌ Nicht ganz. Richtige Antworten:\", sorted(korrekt))\n",
        "\n",
        "def is_colab():\n",
        "    return \"google.colab\" in sys.modules\n",
        "\n",
        "if is_colab():\n",
        "    check()\n",
        "else:\n",
        "    import ipywidgets as widgets\n",
        "    from IPython.display import display\n",
        "\n",
        "    button = widgets.Button(description=\"Lösung anzeigen\")\n",
        "    output = widgets.Output()\n",
        "    def on_button_clicked(b):\n",
        "        with output:\n",
        "            output.clear_output()\n",
        "            check()\n",
        "    button.on_click(on_button_clicked)\n",
        "    display(button, output)"
      ]
    },
    {
      "cell_type": "markdown",
      "id": "f08fcae4",
      "metadata": {
        "id": "f08fcae4"
      },
      "source": [
        "## Aufgabe 2 – Single Choice  \n",
        "Welche optionale **Parameter‑Bezeichnung** von `sorted()` sorgt dafür, dass man eine Funktion als Kriterium übergeben kann?\n",
        "\n",
        "A. `reverse`  \n",
        "B. `cmp`  \n",
        "C. `key`  \n",
        "D. `filter`  \n",
        "\n",
        "*Schreibe deinen Buchstaben in die Variable `antwort2` und führe die Zelle aus.*"
      ]
    },
    {
      "cell_type": "code",
      "execution_count": null,
      "id": "3e3cabed",
      "metadata": {
        "id": "3e3cabed",
        "outputId": "a3741d18-45cf-4dbc-eaa9-e9c39a648fb4",
        "colab": {
          "base_uri": "https://localhost:8080/"
        }
      },
      "outputs": [
        {
          "output_type": "stream",
          "name": "stdout",
          "text": [
            "❌ Falsch. Die richtige Antwort ist 'C'.\n"
          ]
        }
      ],
      "source": [
        "import sys\n",
        "\n",
        "# 👉 Buchstabe einsetzen, z.B. 'A'\n",
        "antwort2 = ''   # <-- Hier deine Antwort eintragen\n",
        "\n",
        "def check_antwort2():\n",
        "    import base64\n",
        "    geheim = \"Qw==\"\n",
        "    korrekt = base64.b64decode(geheim).decode()\n",
        "    if antwort2 == korrekt:\n",
        "        print(\"✅ Richtig!\")\n",
        "    else:\n",
        "        print(f\"❌ Falsch. Die richtige Antwort ist '{korrekt}'.\")\n",
        "\n",
        "def is_colab():\n",
        "    return \"google.colab\" in sys.modules\n",
        "\n",
        "if is_colab():\n",
        "    check_antwort2()\n",
        "else:\n",
        "    import ipywidgets as widgets\n",
        "    from IPython.display import display\n",
        "    button = widgets.Button(description=\"Lösung anzeigen\")\n",
        "    output = widgets.Output()\n",
        "    def on_button_clicked(b):\n",
        "        with output:\n",
        "            output.clear_output()\n",
        "            check_antwort2()\n",
        "    button.on_click(on_button_clicked)\n",
        "    display(button, output)\n"
      ]
    },
    {
      "cell_type": "markdown",
      "id": "365bd0dd",
      "metadata": {
        "id": "365bd0dd"
      },
      "source": [
        "## Aufgabe 3 Kreativaufgabe (1–2 Minuten):\n",
        "Aufgabe:\n",
        "Nennt spontan noch weitere Beispiele aus eurem bisherigen Python-Unterricht, wo eine Funktion an eine andere Funktion übergeben wird (eigene oder eingebaute Funktionen)."
      ]
    },
    {
      "cell_type": "markdown",
      "id": "b84243e6",
      "metadata": {
        "id": "b84243e6"
      },
      "source": [
        "## Aufgabe 4 Praxis\n",
        "\n",
        "Code-Experiment:"
      ]
    },
    {
      "cell_type": "code",
      "execution_count": null,
      "id": "ee7e194d",
      "metadata": {
        "id": "ee7e194d",
        "outputId": "39e167af-6b40-4626-f965-5ebfc39c8eef",
        "colab": {
          "base_uri": "https://localhost:8080/"
        }
      },
      "outputs": [
        {
          "output_type": "stream",
          "name": "stdout",
          "text": [
            "[10, 20, 30]\n"
          ]
        }
      ],
      "source": [
        "# Was wird ausgegeben? Erklärt!\n",
        "def geheimnis(x):\n",
        "    return x * 10\n",
        "\n",
        "zahlen = [1, 2, 3]\n",
        "neu = list(map(geheimnis, zahlen))\n",
        "print(neu)"
      ]
    },
    {
      "cell_type": "markdown",
      "id": "604f52a6",
      "metadata": {
        "id": "604f52a6"
      },
      "source": [
        "Fragen dazu:\n",
        "\n",
        "* Was passiert in Zeile 3?\n",
        "* Warum kann man in Python bei map() als erstes Argument eine Funktion (wie geheimnis, abs, len, str.upper) übergeben, aber nicht einfach eine Zahl wie 5?\n",
        "* Was passiert, wenn man stattdessen eine Zahl übergibt? Erklären Sie den Unterschied im Verhalten.\n",
        "* Was passiert, wenn wir map(print, zahlen), respektive bei list(map(print, zahlen)) schreiben?"
      ]
    },
    {
      "cell_type": "markdown",
      "id": "7b8bcb65",
      "metadata": {
        "id": "7b8bcb65"
      },
      "source": [
        "## Aufgabe 5 Mathe/Begriff:\n",
        "\n",
        "**Diskussionsfrage:**\n",
        "\n",
        "„Was glaubt ihr: Was ist eine Funktion 2. Ordnung bzw. Higher-Order Function? Könnt ihr eine Definition aufschreiben, nachdem ihr die Beispiele gesehen habt?“"
      ]
    },
    {
      "cell_type": "markdown",
      "id": "f1764e65",
      "metadata": {
        "id": "f1764e65"
      },
      "source": [
        "Copyright 2025 [Markus Ineichen](mailto:markus.ineichen1@sluz.ch)\n",
        "\n",
        "Code licence: [MIT License](https://mit-license.org/)\n",
        "\n",
        "Text license: [Creative Commons Attribution-NonCommercial-ShareAlike 4.0 International](https://creativecommons.org/licenses/by-nc-sa/4.0/)"
      ]
    }
  ],
  "metadata": {
    "kernelspec": {
      "display_name": "Python 3",
      "language": "python",
      "name": "python3"
    },
    "language_info": {
      "codemirror_mode": {
        "name": "ipython",
        "version": 3
      },
      "file_extension": ".py",
      "mimetype": "text/x-python",
      "name": "python",
      "nbconvert_exporter": "python",
      "pygments_lexer": "ipython3",
      "version": "3.13.2"
    },
    "colab": {
      "provenance": []
    }
  },
  "nbformat": 4,
  "nbformat_minor": 5
}