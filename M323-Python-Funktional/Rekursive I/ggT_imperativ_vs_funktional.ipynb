{
  "cells": [
    {
      "cell_type": "markdown",
      "id": "2a3a649b",
      "metadata": {
        "id": "2a3a649b"
      },
      "source": [
        "# Imperativer und Funktionaler Algorithmus: ggT\n",
        "\n",
        "Wir vergleichen zwei Ansätze für das gleiche Problem:\n",
        "- Imperativ (mit Schleife und veränderlichen Variablen)\n",
        "- Funktional (rekursiv, deklarativ)\n"
      ]
    },
    {
      "cell_type": "code",
      "execution_count": 9,
      "id": "8a3c2a8f",
      "metadata": {
        "id": "8a3c2a8f"
      },
      "outputs": [
        {
          "name": "stdout",
          "output_type": "stream",
          "text": [
            "ggT (iterativ) von 48 und 18: 6\n"
          ]
        }
      ],
      "source": [
        "def ggt_iterativ(a: int, b: int) -> int:\n",
        "    if b == 0:\n",
        "        return a\n",
        "    else:\n",
        "        return ggt_iterativ(b, a % b)\n",
        "\n",
        "print(\"ggT (iterativ) von 48 und 18:\", ggt_iterativ(48, 18))\n",
        "\n",
        "# ggt_iterativ(48, 18)\n",
        "# -> b != 0, also ggt_iterativ(18, 48 % 18 = 12)\n",
        "# -> b != 0, also ggt_iterativ(12, 18 % 12 = 6)\n",
        "# -> b != 0, also ggt_iterativ(6, 12 % 6 = 0)\n",
        "# -> b == 0, Abbruch -> return a = 6\n"
      ]
    },
    {
      "cell_type": "markdown",
      "id": "1073df8a",
      "metadata": {
        "id": "1073df8a"
      },
      "source": [
        "**Merkmale:**\n",
        "- Schleife (`while`)\n",
        "- Veränderung der Variablen\n",
        "- Schritt-für-Schritt-Verfahren (imperativ)\n"
      ]
    },
    {
      "cell_type": "code",
      "execution_count": null,
      "id": "086abae5",
      "metadata": {
        "id": "086abae5"
      },
      "outputs": [
        {
          "name": "stdout",
          "output_type": "stream",
          "text": [
            "ggT (rekursiv) von 48 und 18: 6\n"
          ]
        }
      ],
      "source": [
        "def ggt_rekursiv(a: int, b: int) -> int:\n",
        "    while b != 0:\n",
        "        rest = a % b\n",
        "        a = b\n",
        "        b = rest\n",
        "    return a\n",
        "\n",
        "print(\"ggT (rekursiv) von 48 und 18:\", ggt_rekursiv(48, 18))\n",
        "\n",
        "# rest = 48 % 18 = 12 -> a = 18, b = rest = 12 -> rest = 18 % 12 = 6 -> a = 18, b = rest = 6 -> rest = 12 % 6 = 0 -> a = 6, b = rest = 0 -> b == 0 zu abbruch -> return a = 6\n"
      ]
    },
    {
      "cell_type": "markdown",
      "id": "c78a4f7f",
      "metadata": {
        "id": "c78a4f7f"
      },
      "source": [
        "**Merkmale:**\n",
        "- Keine Schleifen, keine Mutationen\n",
        "- Direkte, deklarative Umsetzung der mathematischen Definition\n",
        "- Klarer, oft kürzerer Code\n"
      ]
    },
    {
      "cell_type": "markdown",
      "id": "KPfAi9psT9xA",
      "metadata": {
        "id": "KPfAi9psT9xA"
      },
      "source": [
        "Copyright 2025 [Markus Ineichen](mailto:markus.ineichen1@sluz.ch)\n",
        "\n",
        "Code licence: [MIT License](https://mit-license.org/)\n",
        "\n",
        "Text license: [Creative Commons Attribution-NonCommercial-ShareAlike 4.0 International](https://creativecommons.org/licenses/by-nc-sa/4.0/)"
      ]
    }
  ],
  "metadata": {
    "colab": {
      "provenance": []
    },
    "kernelspec": {
      "display_name": ".venv",
      "language": "python",
      "name": "python3"
    },
    "language_info": {
      "codemirror_mode": {
        "name": "ipython",
        "version": 3
      },
      "file_extension": ".py",
      "mimetype": "text/x-python",
      "name": "python",
      "nbconvert_exporter": "python",
      "pygments_lexer": "ipython3",
      "version": "3.13.3"
    }
  },
  "nbformat": 4,
  "nbformat_minor": 5
}
