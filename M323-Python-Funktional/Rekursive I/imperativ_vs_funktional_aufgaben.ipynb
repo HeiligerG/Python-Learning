{
  "cells": [
    {
      "cell_type": "markdown",
      "id": "c7f24b06",
      "metadata": {
        "id": "c7f24b06"
      },
      "source": [
        "# Vergleich: Imperative und Funktionale Lösungswege\n",
        "\n",
        "In dieser Übung implementieren Sie einfache Algorithmen jeweils auf zwei Arten:\n",
        "- **imperativ** (mit Schleifen und veränderlichen Variablen)\n",
        "- **funktional** (rekursiv, deklarativ)\n",
        "\n",
        "Nach jedem Beispiel kommentieren Sie bitte kurz:\n",
        "*Was fällt Ihnen beim Vergleich der beiden Lösungen auf?*\n",
        "\n",
        "Am Ende jeder Aufgabe finden Sie vorbereitete Testfälle (`assert`), mit denen Sie Ihre Implementierung selbst überprüfen können.\n"
      ]
    },
    {
      "cell_type": "markdown",
      "id": "9d1f8d9a",
      "metadata": {
        "id": "9d1f8d9a"
      },
      "source": [
        "## Aufgabe 1: Summe einer Zahlenliste berechnen\n",
        "\n",
        "Implementieren Sie beide Varianten und vergleichen Sie die Lösungswege.\n"
      ]
    },
    {
      "cell_type": "code",
      "execution_count": 16,
      "id": "fb7ff9b3",
      "metadata": {
        "id": "fb7ff9b3"
      },
      "outputs": [],
      "source": [
        "def summe_iterativ(liste):\n",
        "    summe = 0\n",
        "    for x in liste:\n",
        "        summe = summe + x\n",
        "    return summe\n"
      ]
    },
    {
      "cell_type": "code",
      "execution_count": null,
      "id": "5b46b1d0",
      "metadata": {
        "id": "5b46b1d0"
      },
      "outputs": [],
      "source": [
        "def summe_rekursiv(liste):\n",
        "    if not liste:\n",
        "        return 0\n",
        "    else:\n",
        "        return liste[0] + summe_rekursiv(liste[1:])\n",
        "    \n",
        "#    = 4 + (2 + (7 + (1 + 0)))\n",
        "#    = 4 + (2 + (7 + 1))\n",
        "#    = 4 + (2 + 8)\n",
        "#    = 4 + 10\n",
        "#    = 14\n"
      ]
    },
    {
      "cell_type": "markdown",
      "id": "579b8aae",
      "metadata": {
        "id": "579b8aae"
      },
      "source": [
        "# Kommentar:\n",
        "# Notieren Sie hier Ihre Beobachtungen zum Unterschied der beiden Varianten.\n"
      ]
    },
    {
      "cell_type": "code",
      "execution_count": 23,
      "id": "53dfef69",
      "metadata": {
        "id": "53dfef69"
      },
      "outputs": [
        {
          "name": "stdout",
          "output_type": "stream",
          "text": [
            "Alle Testfälle für Aufgabe 1 erfolgreich!\n"
          ]
        }
      ],
      "source": [
        "# TESTFÄLLE\n",
        "liste = [4, 2, 7, 1]\n",
        "assert summe_iterativ(liste) == 14\n",
        "assert summe_iterativ([]) == 0\n",
        "assert summe_iterativ([1]) == 1\n",
        "\n",
        "assert summe_rekursiv(liste) == 14\n",
        "assert summe_rekursiv([]) == 0\n",
        "assert summe_rekursiv([1]) == 1\n",
        "\n",
        "print(\"Alle Testfälle für Aufgabe 1 erfolgreich!\")\n"
      ]
    },
    {
      "cell_type": "markdown",
      "id": "e3c1f7bb",
      "metadata": {
        "id": "e3c1f7bb"
      },
      "source": [
        "## Aufgabe 2: Fakultät berechnen\n",
        "\n",
        "Berechnen Sie die Fakultät von n einmal imperativ, einmal rekursiv.\n"
      ]
    },
    {
      "cell_type": "code",
      "execution_count": null,
      "id": "70bc3971",
      "metadata": {
        "id": "70bc3971"
      },
      "outputs": [],
      "source": [
        "def fakultaet_iterativ(n):\n",
        "    if n < 0:\n",
        "        raise ValueError(\"n muss >= als 0 sein\")\n",
        "    result = 1\n",
        "    k = n\n",
        "    while k > 1:\n",
        "        result = result * k\n",
        "        k = k - 1\n",
        "    return result\n",
        "\n",
        "# result = 1, k = 5\n",
        "# -> result = 1*5 = 5,   k = 4\n",
        "# -> result = 5*4 = 20,  k = 3\n",
        "# -> result = 20*3 = 60, k = 2\n",
        "# -> result = 60*2 = 120,k = 1 -> Abbruch (k > 1 ist falsch)\n",
        "# -> return 120\n",
        "        \n"
      ]
    },
    {
      "cell_type": "code",
      "execution_count": 26,
      "id": "783b2371",
      "metadata": {
        "id": "783b2371"
      },
      "outputs": [],
      "source": [
        "def fakultaet_rekursiv(n):\n",
        "    if not n != 0:\n",
        "        return n * fakultaet_rekursiv(n - 1)\n"
      ]
    },
    {
      "cell_type": "markdown",
      "id": "0443c8a1",
      "metadata": {
        "id": "0443c8a1"
      },
      "source": [
        "# Kommentar:\n",
        "# Notieren Sie hier Ihre Beobachtungen zum Unterschied der beiden Varianten.\n"
      ]
    },
    {
      "cell_type": "code",
      "execution_count": 31,
      "id": "f95eb9c1",
      "metadata": {
        "id": "f95eb9c1"
      },
      "outputs": [
        {
          "ename": "TypeError",
          "evalue": "unsupported operand type(s) for *: 'int' and 'NoneType'",
          "output_type": "error",
          "traceback": [
            "\u001b[31m---------------------------------------------------------------------------\u001b[39m",
            "\u001b[31mTypeError\u001b[39m                                 Traceback (most recent call last)",
            "\u001b[36mCell\u001b[39m\u001b[36m \u001b[39m\u001b[32mIn[31]\u001b[39m\u001b[32m, line 6\u001b[39m\n\u001b[32m      3\u001b[39m \u001b[38;5;28;01massert\u001b[39;00m fakultaet_iterativ(\u001b[32m1\u001b[39m) == \u001b[32m1\u001b[39m\n\u001b[32m      4\u001b[39m \u001b[38;5;28;01massert\u001b[39;00m fakultaet_iterativ(\u001b[32m5\u001b[39m) == \u001b[32m120\u001b[39m\n\u001b[32m----> \u001b[39m\u001b[32m6\u001b[39m \u001b[38;5;28;01massert\u001b[39;00m \u001b[43mfakultaet_rekursiv\u001b[49m\u001b[43m(\u001b[49m\u001b[32;43m0\u001b[39;49m\u001b[43m)\u001b[49m == \u001b[32m1\u001b[39m\n\u001b[32m      7\u001b[39m \u001b[38;5;28;01massert\u001b[39;00m fakultaet_rekursiv(\u001b[32m1\u001b[39m) == \u001b[32m1\u001b[39m\n\u001b[32m      8\u001b[39m \u001b[38;5;28;01massert\u001b[39;00m fakultaet_rekursiv(\u001b[32m5\u001b[39m) == \u001b[32m120\u001b[39m\n",
            "\u001b[36mCell\u001b[39m\u001b[36m \u001b[39m\u001b[32mIn[26]\u001b[39m\u001b[32m, line 3\u001b[39m, in \u001b[36mfakultaet_rekursiv\u001b[39m\u001b[34m(n)\u001b[39m\n\u001b[32m      1\u001b[39m \u001b[38;5;28;01mdef\u001b[39;00m\u001b[38;5;250m \u001b[39m\u001b[34mfakultaet_rekursiv\u001b[39m(n):\n\u001b[32m      2\u001b[39m     \u001b[38;5;28;01mif\u001b[39;00m \u001b[38;5;129;01mnot\u001b[39;00m n != \u001b[32m0\u001b[39m:\n\u001b[32m----> \u001b[39m\u001b[32m3\u001b[39m         \u001b[38;5;28;01mreturn\u001b[39;00m \u001b[43mn\u001b[49m\u001b[43m \u001b[49m\u001b[43m*\u001b[49m\u001b[43m \u001b[49m\u001b[43mfakultaet_rekursiv\u001b[49m\u001b[43m(\u001b[49m\u001b[43mn\u001b[49m\u001b[43m \u001b[49m\u001b[43m-\u001b[49m\u001b[43m \u001b[49m\u001b[32;43m1\u001b[39;49m\u001b[43m)\u001b[49m\n",
            "\u001b[31mTypeError\u001b[39m: unsupported operand type(s) for *: 'int' and 'NoneType'"
          ]
        }
      ],
      "source": [
        "# TESTFÄLLE\n",
        "assert fakultaet_iterativ(0) == 1\n",
        "assert fakultaet_iterativ(1) == 1\n",
        "assert fakultaet_iterativ(5) == 120\n",
        "\n",
        "assert fakultaet_rekursiv(0) == 1\n",
        "assert fakultaet_rekursiv(1) == 1\n",
        "assert fakultaet_rekursiv(5) == 120\n",
        "\n",
        "print(\"Alle Testfälle für Aufgabe 2 erfolgreich!\")\n"
      ]
    },
    {
      "cell_type": "markdown",
      "id": "f7ac6a08",
      "metadata": {
        "id": "f7ac6a08"
      },
      "source": [
        "## Aufgabe 3: Grösster gemeinsamer Teiler (ggT)\n",
        "\n",
        "Berechnen Sie den ggT sowohl imperativ als auch rekursiv.\n"
      ]
    },
    {
      "cell_type": "code",
      "execution_count": null,
      "id": "7f3ebe73",
      "metadata": {
        "id": "7f3ebe73"
      },
      "outputs": [],
      "source": [
        "def ggt_iterativ(a, b):\n",
        "    # TODO: Implementieren Sie den ggT imperativ (mit Schleife)\n",
        "    pass\n",
        "\n",
        "# Beispielaufruf:\n",
        "# print(ggt_iterativ(84, 36))  # Soll 12 ausgeben\n"
      ]
    },
    {
      "cell_type": "code",
      "execution_count": null,
      "id": "39080937",
      "metadata": {
        "id": "39080937"
      },
      "outputs": [],
      "source": [
        "def ggt_rekursiv(a, b):\n",
        "    # TODO: Implementieren Sie den ggT funktional (rekursiv)\n",
        "    pass\n",
        "\n",
        "# Beispielaufruf:\n",
        "# print(ggt_rekursiv(84, 36))  # Soll 12 ausgeben\n"
      ]
    },
    {
      "cell_type": "markdown",
      "id": "979bf681",
      "metadata": {
        "id": "979bf681"
      },
      "source": [
        "# Kommentar:\n",
        "# Notieren Sie hier Ihre Beobachtungen zum Unterschied der beiden Varianten.\n"
      ]
    },
    {
      "cell_type": "code",
      "execution_count": null,
      "id": "2e32fc98",
      "metadata": {
        "id": "2e32fc98"
      },
      "outputs": [],
      "source": [
        "# TESTFÄLLE\n",
        "assert ggt_iterativ(84, 36) == 12\n",
        "assert ggt_iterativ(15, 5) == 5\n",
        "assert ggt_iterativ(17, 13) == 1\n",
        "\n",
        "assert ggt_rekursiv(84, 36) == 12\n",
        "assert ggt_rekursiv(15, 5) == 5\n",
        "assert ggt_rekursiv(17, 13) == 1\n",
        "\n",
        "print(\"Alle Testfälle für Aufgabe 3 erfolgreich!\")\n"
      ]
    },
    {
      "cell_type": "markdown",
      "id": "053173b9",
      "metadata": {
        "id": "053173b9"
      },
      "source": [
        "## Reflexionsfragen (diskutieren Sie als Team und ergänzen Sie im Notebook):\n",
        "\n",
        "- Welche Unterschiede erkennen Sie beim Schreiben und Lesen der beiden Varianten?\n",
        "- Welche Lösung finden Sie intuitiver? Warum?\n",
        "- Für welche Probleme würden Sie in Zukunft den funktionalen Stil bevorzugen?\n"
      ]
    },
    {
      "cell_type": "markdown",
      "id": "NUHsjAALULv9",
      "metadata": {
        "id": "NUHsjAALULv9"
      },
      "source": [
        "Copyright 2025 [Markus Ineichen](mailto:markus.ineichen1@sluz.ch)\n",
        "\n",
        "Code licence: [MIT License](https://mit-license.org/)\n",
        "\n",
        "Text license: [Creative Commons Attribution-NonCommercial-ShareAlike 4.0 International](https://creativecommons.org/licenses/by-nc-sa/4.0/)"
      ]
    }
  ],
  "metadata": {
    "colab": {
      "provenance": []
    },
    "kernelspec": {
      "display_name": ".venv",
      "language": "python",
      "name": "python3"
    },
    "language_info": {
      "codemirror_mode": {
        "name": "ipython",
        "version": 3
      },
      "file_extension": ".py",
      "mimetype": "text/x-python",
      "name": "python",
      "nbconvert_exporter": "python",
      "pygments_lexer": "ipython3",
      "version": "3.13.3"
    }
  },
  "nbformat": 4,
  "nbformat_minor": 5
}
