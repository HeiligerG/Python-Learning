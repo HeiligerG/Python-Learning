{
  "cells": [
    {
      "cell_type": "markdown",
      "id": "c7f24b06",
      "metadata": {
        "id": "c7f24b06"
      },
      "source": [
        "# Vergleich: Imperative und Funktionale Lösungswege\n",
        "\n",
        "In dieser Übung implementieren Sie einfache Algorithmen jeweils auf zwei Arten:\n",
        "- **imperativ** (mit Schleifen und veränderlichen Variablen)\n",
        "- **funktional** (rekursiv, deklarativ)\n",
        "\n",
        "Nach jedem Beispiel kommentieren Sie bitte kurz:\n",
        "*Was fällt Ihnen beim Vergleich der beiden Lösungen auf?*\n",
        "\n",
        "Am Ende jeder Aufgabe finden Sie vorbereitete Testfälle (`assert`), mit denen Sie Ihre Implementierung selbst überprüfen können.\n"
      ]
    },
    {
      "cell_type": "markdown",
      "id": "9d1f8d9a",
      "metadata": {
        "id": "9d1f8d9a"
      },
      "source": [
        "## Aufgabe 1: Summe einer Zahlenliste berechnen\n",
        "\n",
        "Implementieren Sie beide Varianten und vergleichen Sie die Lösungswege.\n"
      ]
    },
    {
      "cell_type": "code",
      "execution_count": 16,
      "id": "fb7ff9b3",
      "metadata": {
        "id": "fb7ff9b3"
      },
      "outputs": [],
      "source": [
        "def summe_iterativ(liste):\n",
        "    summe = 0\n",
        "    for x in liste:\n",
        "        summe = summe + x\n",
        "    return summe\n"
      ]
    },
    {
      "cell_type": "code",
      "execution_count": null,
      "id": "5b46b1d0",
      "metadata": {
        "id": "5b46b1d0"
      },
      "outputs": [],
      "source": [
        "def summe_rekursiv(liste):\n",
        "    if not liste:\n",
        "        return 0\n",
        "    else:\n",
        "        return liste[0] + summe_rekursiv(liste[1:])\n",
        "    \n",
        "#    = 4 + (2 + (7 + (1 + 0)))\n",
        "#    = 4 + (2 + (7 + 1))\n",
        "#    = 4 + (2 + 8)\n",
        "#    = 4 + 10\n",
        "#    = 14\n"
      ]
    },
    {
      "cell_type": "markdown",
      "id": "579b8aae",
      "metadata": {
        "id": "579b8aae"
      },
      "source": [
        "# Kommentar:\n",
        "# Notieren Sie hier Ihre Beobachtungen zum Unterschied der beiden Varianten.\n"
      ]
    },
    {
      "cell_type": "code",
      "execution_count": 23,
      "id": "53dfef69",
      "metadata": {
        "id": "53dfef69"
      },
      "outputs": [
        {
          "name": "stdout",
          "output_type": "stream",
          "text": [
            "Alle Testfälle für Aufgabe 1 erfolgreich!\n"
          ]
        }
      ],
      "source": [
        "# TESTFÄLLE\n",
        "liste = [4, 2, 7, 1]\n",
        "assert summe_iterativ(liste) == 14\n",
        "assert summe_iterativ([]) == 0\n",
        "assert summe_iterativ([1]) == 1\n",
        "\n",
        "assert summe_rekursiv(liste) == 14\n",
        "assert summe_rekursiv([]) == 0\n",
        "assert summe_rekursiv([1]) == 1\n",
        "\n",
        "print(\"Alle Testfälle für Aufgabe 1 erfolgreich!\")\n"
      ]
    },
    {
      "cell_type": "markdown",
      "id": "e3c1f7bb",
      "metadata": {
        "id": "e3c1f7bb"
      },
      "source": [
        "## Aufgabe 2: Fakultät berechnen\n",
        "\n",
        "Berechnen Sie die Fakultät von n einmal imperativ, einmal rekursiv.\n"
      ]
    },
    {
      "cell_type": "code",
      "execution_count": null,
      "id": "70bc3971",
      "metadata": {
        "id": "70bc3971"
      },
      "outputs": [],
      "source": [
        "def fakultaet_iterativ(n):\n",
        "    if n < 0:\n",
        "        raise ValueError(\"n muss >= als 0 sein\")\n",
        "    result = 1\n",
        "    k = n\n",
        "    while k > 1:\n",
        "        result = result * k\n",
        "        k = k - 1\n",
        "    return result\n",
        "\n",
        "# result = 1, k = 5\n",
        "# -> result = 1*5 = 5,   k = 4\n",
        "# -> result = 5*4 = 20,  k = 3\n",
        "# -> result = 20*3 = 60, k = 2\n",
        "# -> result = 60*2 = 120,k = 1 -> Abbruch (k > 1 ist falsch)\n",
        "# -> return 120\n",
        "        \n"
      ]
    },
    {
      "cell_type": "code",
      "execution_count": 32,
      "id": "783b2371",
      "metadata": {
        "id": "783b2371"
      },
      "outputs": [],
      "source": [
        "def fakultaet_rekursiv(n):\n",
        "    if n == 0:\n",
        "        return 1\n",
        "    else:\n",
        "        return n * fakultaet_rekursiv(n - 1)\n"
      ]
    },
    {
      "cell_type": "markdown",
      "id": "0443c8a1",
      "metadata": {
        "id": "0443c8a1"
      },
      "source": [
        "# Kommentar:\n",
        "# Notieren Sie hier Ihre Beobachtungen zum Unterschied der beiden Varianten.\n"
      ]
    },
    {
      "cell_type": "code",
      "execution_count": 33,
      "id": "f95eb9c1",
      "metadata": {
        "id": "f95eb9c1"
      },
      "outputs": [
        {
          "name": "stdout",
          "output_type": "stream",
          "text": [
            "Alle Testfälle für Aufgabe 2 erfolgreich!\n"
          ]
        }
      ],
      "source": [
        "# TESTFÄLLE\n",
        "assert fakultaet_iterativ(0) == 1\n",
        "assert fakultaet_iterativ(1) == 1\n",
        "assert fakultaet_iterativ(5) == 120\n",
        "\n",
        "assert fakultaet_rekursiv(0) == 1\n",
        "assert fakultaet_rekursiv(1) == 1\n",
        "assert fakultaet_rekursiv(5) == 120\n",
        "\n",
        "print(\"Alle Testfälle für Aufgabe 2 erfolgreich!\")\n"
      ]
    },
    {
      "cell_type": "markdown",
      "id": "f7ac6a08",
      "metadata": {
        "id": "f7ac6a08"
      },
      "source": [
        "## Aufgabe 3: Grösster gemeinsamer Teiler (ggT)\n",
        "\n",
        "Berechnen Sie den ggT sowohl imperativ als auch rekursiv.\n"
      ]
    },
    {
      "cell_type": "code",
      "execution_count": 38,
      "id": "7f3ebe73",
      "metadata": {
        "id": "7f3ebe73"
      },
      "outputs": [],
      "source": [
        "def ggt_iterativ(a, b):\n",
        "    while b != 0:\n",
        "        rest = a % b\n",
        "        a = b\n",
        "        b = rest\n",
        "    return a\n"
      ]
    },
    {
      "cell_type": "code",
      "execution_count": 40,
      "id": "39080937",
      "metadata": {
        "id": "39080937"
      },
      "outputs": [],
      "source": [
        "def ggt_rekursiv(a, b):\n",
        "    if b == 0:\n",
        "        return a\n",
        "    else:\n",
        "        return ggt_rekursiv(b, a % b)\n"
      ]
    },
    {
      "cell_type": "markdown",
      "id": "979bf681",
      "metadata": {
        "id": "979bf681"
      },
      "source": [
        "# Kommentar:\n",
        "# Notieren Sie hier Ihre Beobachtungen zum Unterschied der beiden Varianten.\n"
      ]
    },
    {
      "cell_type": "code",
      "execution_count": 41,
      "id": "2e32fc98",
      "metadata": {
        "id": "2e32fc98"
      },
      "outputs": [
        {
          "name": "stdout",
          "output_type": "stream",
          "text": [
            "Alle Testfälle für Aufgabe 3 erfolgreich!\n"
          ]
        }
      ],
      "source": [
        "# TESTFÄLLE\n",
        "assert ggt_iterativ(84, 36) == 12\n",
        "assert ggt_iterativ(15, 5) == 5\n",
        "assert ggt_iterativ(17, 13) == 1\n",
        "\n",
        "assert ggt_rekursiv(84, 36) == 12\n",
        "assert ggt_rekursiv(15, 5) == 5\n",
        "assert ggt_rekursiv(17, 13) == 1\n",
        "\n",
        "print(\"Alle Testfälle für Aufgabe 3 erfolgreich!\")\n"
      ]
    },
    {
      "cell_type": "markdown",
      "id": "053173b9",
      "metadata": {
        "id": "053173b9"
      },
      "source": [
        "## Reflexionsfragen (diskutieren Sie als Team und ergänzen Sie im Notebook):\n",
        "\n",
        "- Welche Unterschiede erkennen Sie beim Schreiben und Lesen der beiden Varianten?\n",
        "- Welche Lösung finden Sie intuitiver? Warum?\n",
        "- Für welche Probleme würden Sie in Zukunft den funktionalen Stil bevorzugen?\n"
      ]
    },
    {
      "cell_type": "markdown",
      "id": "NUHsjAALULv9",
      "metadata": {
        "id": "NUHsjAALULv9"
      },
      "source": [
        "Copyright 2025 [Markus Ineichen](mailto:markus.ineichen1@sluz.ch)\n",
        "\n",
        "Code licence: [MIT License](https://mit-license.org/)\n",
        "\n",
        "Text license: [Creative Commons Attribution-NonCommercial-ShareAlike 4.0 International](https://creativecommons.org/licenses/by-nc-sa/4.0/)"
      ]
    }
  ],
  "metadata": {
    "colab": {
      "provenance": []
    },
    "kernelspec": {
      "display_name": ".venv",
      "language": "python",
      "name": "python3"
    },
    "language_info": {
      "codemirror_mode": {
        "name": "ipython",
        "version": 3
      },
      "file_extension": ".py",
      "mimetype": "text/x-python",
      "name": "python",
      "nbconvert_exporter": "python",
      "pygments_lexer": "ipython3",
      "version": "3.13.3"
    }
  },
  "nbformat": 4,
  "nbformat_minor": 5
}
