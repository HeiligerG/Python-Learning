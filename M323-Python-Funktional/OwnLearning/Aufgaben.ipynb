{
  "cells": [
    {
      "cell_type": "markdown",
      "id": "00274061",
      "metadata": {},
      "source": [
        "## Aufgabe 2 – Verschachtelte Listen abflachen (Flatten, rekursiv)\n",
        "\n",
        "Implementieren Sie eine rekursive Funktion `flatten(xs: list) -> list`, die eine **beliebig tief verschachtelte** Liste in eine **flache Liste** umwandelt.\n",
        "\n",
        "**Die Idee:**\n",
        "Stellen Sie sich eine Liste vor, in der Elemente selbst wieder Listen sein können (z. B. `[1, [2, [3], 4], 5]`).\n",
        "Beim Abflachen („Flatten“) werden alle inneren Listen rekursiv geöffnet und ihre Elemente in eine einzige oberste Liste geschrieben: `→ [1, 2, 3, 4, 5]`.\n",
        "\n",
        "**Vorgaben**\n",
        "\n",
        "* **Basisfall:** Eine leere Liste `[]` wird zu `[]`.\n",
        "* **Rekursiver Schritt:**\n",
        "\n",
        "  * Falls das erste Element selbst eine Liste ist, flachen Sie es rekursiv ab und konkattenieren Sie mit dem Ergebnis des abgeflachten Rests.\n",
        "  * Andernfalls übernehmen Sie das erste Element und flachen den Rest ab.\n",
        "* **Keine Mutation:** Verwenden Sie keine in-place-Operationen (`append`, `extend`, `+=` auf Listen, etc.). Erzeugen Sie ausschließlich **neue** Listen durch Rückgaben.\n",
        "* **Nur Listen abflachen:** Nicht-Listen-Elemente (z. B. `int`, `str`, `dict`, …) werden als einzelne Elemente behandelt und einfach übernommen (nicht weiter „zerlegt“).\n",
        "* **Keine Schleifen:** Nutzen Sie ausschließlich Rekursion.\n",
        "\n",
        "**Beispiele**\n",
        "\n",
        "* `flatten([1, [2, [3], 4], 5]) → [1, 2, 3, 4, 5]`\n",
        "* `flatten([]) → []`\n",
        "* `flatten([[\"a\"], [\"b\", [\"c\", [\"d\"]]]]) → [\"a\", \"b\", \"c\", \"d\"]`\n",
        "* `flatten([1, (2, 3)]) → [1, (2, 3)]` *(Tupel werden **nicht** weiter zerlegt, nur Listen!)*\n",
        "\n",
        "**Bewertung**\n",
        "\n",
        "* Korrekte Basisfälle: **2 P**\n",
        "* Richtige rekursive Zerlegung (Kopf/Tail) und Fallunterscheidung Liste vs. Nicht-Liste: **4 P**\n",
        "* Rein funktional (keine Mutation/Schleifen): **3 P**\n",
        "* Korrekte Behandlung gemischter Typen (Nicht-Listen unverändert übernehmen): **1 P**\n"
      ]
    },
    {
      "cell_type": "code",
      "execution_count": null,
      "id": "73922906",
      "metadata": {},
      "outputs": [],
      "source": [
        "def flatten(xs: list) -> list:\n",
        "    \"\"\"\n",
        "    Wandelt eine beliebig tief verschachtelte Liste xs in eine flache Liste um.\n",
        "\n",
        "    Anforderungen:\n",
        "    - Basisfall: [] -> []\n",
        "    - Rekursiver Schritt: Kopf/Tail; Kopf bei Listen rekursiv abflachen\n",
        "    - Keine Mutation/In-Place-Operationen\n",
        "    - Nur Listen werden abgeflacht; andere Typen bleiben einzelne Elemente\n",
        "    - Keine Schleifen, nur Rekursion\n",
        "    \"\"\"\n",
        "    match xs:\n",
        "        case []:\n",
        "            return []\n",
        "        case [head, *tail] if isinstance(head, list):\n",
        "            return flatten(head) + flatten(tail)\n",
        "        case [head, *tail]:\n",
        "            return [head] + flatten(tail)"
      ]
    },
    {
      "cell_type": "code",
      "execution_count": 16,
      "id": "247dd570",
      "metadata": {},
      "outputs": [
        {
          "name": "stdout",
          "output_type": "stream",
          "text": [
            "[1, 2, 3, 4, 5]\n",
            "[]\n",
            "['a', 'b', 'c', 'd']\n",
            "[1, (2, 3)]\n"
          ]
        }
      ],
      "source": [
        "print(flatten([1, [2, [3], 4], 5]))                 # Erwartet: [1, 2, 3, 4, 5]\n",
        "print(flatten([]))                                   # Erwartet: []\n",
        "print(flatten([[\"a\"], [\"b\", [\"c\", [\"d\"]]]]))        # Erwartet: [\"a\", \"b\", \"c\", \"d\"]\n",
        "print(flatten([1, (2, 3)]))                          # Erwartet: [1, (2, 3)]"
      ]
    }
  ],
  "metadata": {
    "colab": {
      "provenance": []
    },
    "kernelspec": {
      "display_name": ".venv",
      "language": "python",
      "name": "python3"
    },
    "language_info": {
      "codemirror_mode": {
        "name": "ipython",
        "version": 3
      },
      "file_extension": ".py",
      "mimetype": "text/x-python",
      "name": "python",
      "nbconvert_exporter": "python",
      "pygments_lexer": "ipython3",
      "version": "3.13.3"
    }
  },
  "nbformat": 4,
  "nbformat_minor": 5
}
