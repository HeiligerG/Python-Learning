{
  "cells": [
    {
      "cell_type": "markdown",
      "id": "5a8ec317",
      "metadata": {
        "id": "5a8ec317"
      },
      "source": [
        "# Arbeitsblatt: Pure Functions und Immutable Data in Python\n",
        "\n",
        "**Ziel:**  \n",
        "Du lernst, was „pure functions“ sind, wie man Seiteneffekte erkennt und wie Python mit veränderlichen und unveränderlichen Daten umgeht.\n",
        "\n",
        "Bearbeite die Aufgaben und beantworte die Reflexionsfragen.\n"
      ]
    },
    {
      "cell_type": "markdown",
      "id": "1df83df6",
      "metadata": {
        "id": "1df83df6"
      },
      "source": [
        "## 1. Was ist eine Pure Function?\n",
        "\n",
        "**Aufgabe:**  \n",
        "Beschreibe in eigenen Worten: Was ist eine „pure function“?  \n",
        "Nenne mindestens **zwei Eigenschaften**.\n"
      ]
    },
    {
      "cell_type": "markdown",
      "id": "kcwO2syKDZUP",
      "metadata": {
        "id": "kcwO2syKDZUP"
      },
      "source": [
        "Sie hatt keine Neben-Effekte und auch keine schleifen."
      ]
    },
    {
      "cell_type": "markdown",
      "id": "a8110980",
      "metadata": {
        "id": "a8110980"
      },
      "source": [
        "## 2. Vergleich: Unreine Funktion vs. Pure Function\n",
        "\n",
        "### a) Probiere aus: Was passiert?\n",
        "\n",
        "```python\n",
        "my_list = []\n",
        "\n",
        "def add_to_list(element):\n",
        "    my_list.append(element)\n",
        "\n",
        "add_to_list(42)\n",
        "print(\"my_list nach add_to_list(42):\", my_list)\n",
        "```\n",
        "\n",
        "**Frage:**  \n",
        "- Was fällt dir an dieser Funktion auf?  \n",
        "- Warum ist sie *nicht* „pure“?\n"
      ]
    },
    {
      "cell_type": "markdown",
      "id": "_IhT8gwUDbVE",
      "metadata": {
        "id": "_IhT8gwUDbVE"
      },
      "source": [
        "sie verändert die liste"
      ]
    },
    {
      "cell_type": "markdown",
      "id": "44ab51f5",
      "metadata": {
        "id": "44ab51f5"
      },
      "source": [
        "### b) Schreibe eine pure Variante!\n",
        "\n",
        "**Aufgabe:**  \n",
        "Schreibe eine Funktion `pure_add_to_list(lst, element)`,  \n",
        "die das Element zu einer Liste **hinzufügt**, aber **ohne** das Original zu verändern.\n",
        "\n",
        "Teste dein Ergebnis mit den bereitgestellten Testfällen!\n"
      ]
    },
    {
      "cell_type": "code",
      "execution_count": 4,
      "id": "f4ba1cee",
      "metadata": {
        "id": "f4ba1cee"
      },
      "outputs": [
        {
          "name": "stdout",
          "output_type": "stream",
          "text": [
            "Alle Tests für pure_add_to_list bestanden.\n"
          ]
        }
      ],
      "source": [
        "def pure_add_to_list(lst, element):\n",
        "    list = lst[:]\n",
        "    list.append(element)\n",
        "    return list\n",
        "\n",
        "# Testfälle\n",
        "assert pure_add_to_list([1, 2, 3], 42) == [1, 2, 3, 42]\n",
        "assert pure_add_to_list([], 5) == [5]\n",
        "lst = [1, 2]\n",
        "res = pure_add_to_list(lst, 3)\n",
        "assert lst == [1, 2]   # Original bleibt unverändert\n",
        "print(\"Alle Tests für pure_add_to_list bestanden.\")\n"
      ]
    },
    {
      "cell_type": "markdown",
      "id": "768e6f49",
      "metadata": {
        "id": "768e6f49"
      },
      "source": [
        "**Frage:**  \n",
        "- Was ist jetzt der Unterschied zum ersten Beispiel?\n"
      ]
    },
    {
      "cell_type": "markdown",
      "id": "sxF4IDB0Dj2t",
      "metadata": {
        "id": "sxF4IDB0Dj2t"
      },
      "source": [
        "liste wird nicht verändert, keine Seiteneffekte"
      ]
    },
    {
      "cell_type": "markdown",
      "id": "10da70a2",
      "metadata": {
        "id": "10da70a2"
      },
      "source": [
        "## 3. Mutable vs. Immutable Data\n",
        "\n",
        "**Aufgabe:**  \n",
        "Untersuche den Unterschied zwischen einer Liste und einem Tupel:\n"
      ]
    },
    {
      "cell_type": "code",
      "execution_count": null,
      "id": "9880c577",
      "metadata": {
        "id": "9880c577"
      },
      "outputs": [],
      "source": [
        "# Liste (mutable)\n",
        "liste = [1, 2, 3]\n",
        "liste[0] = 9\n",
        "print(\"Liste nach Änderung:\", liste)    # [9, 2, 3]\n",
        "\n",
        "# Tupel (immutable)\n",
        "tup = (1, 2, 3)\n",
        "try:\n",
        "    tup[0] = 9\n",
        "except TypeError as e:\n",
        "    print(\"Tupel ändern führt zu Fehler:\", e)\n"
      ]
    },
    {
      "cell_type": "markdown",
      "id": "f8d41d96",
      "metadata": {
        "id": "f8d41d96"
      },
      "source": [
        "**Fragen:**  \n",
        "- Welche Datenstruktur ist veränderlich?  \n",
        "- Was passiert beim Tupel? Warum?\n",
        "\n",
        "(Antworte in 2-3 Sätzen.)\n"
      ]
    },
    {
      "cell_type": "markdown",
      "id": "sWx4-JvNDnAA",
      "metadata": {
        "id": "sWx4-JvNDnAA"
      },
      "source": [
        "Listen, variablen und Dicts sind veränderbar aber Tupel nicht. Bei Tupel wird immer ein neues Objekt erstellt."
      ]
    },
    {
      "cell_type": "markdown",
      "id": "4c95019a",
      "metadata": {
        "id": "4c95019a"
      },
      "source": [
        "## 4. Parameterübergabe und Seiteneffekte\n",
        "\n",
        "**Aufgabe:**  \n",
        "Was passiert, wenn eine Funktion eine Liste als Parameter erhält und diese verändert?\n",
        "\n",
        "```python\n",
        "def append_42(liste):\n",
        "    liste.append(42)\n",
        "\n",
        "a = [1, 2, 3]\n",
        "append_42(a)\n",
        "print(\"a nach append_42(a):\", a)\n",
        "```\n",
        "\n",
        "**Fragen:**  \n",
        "- Warum wird die Liste `a` ausserhalb der Funktion verändert?  \n",
        "- Ist das ein Seiteneffekt?\n",
        "\n",
        "(Antworte in 2-3 Sätzen.)\n"
      ]
    },
    {
      "cell_type": "markdown",
      "id": "00D6KalpDppf",
      "metadata": {
        "id": "00D6KalpDppf"
      },
      "source": [
        "weil es ausserhalb des scopes ist es ist global definiert und ja das ist ein seiteneffekt"
      ]
    },
    {
      "cell_type": "markdown",
      "id": "c5e291a0",
      "metadata": {
        "id": "c5e291a0"
      },
      "source": [
        "## 5. Mutable vs. Immutable Klassen\n",
        "\n",
        "**Aufgabe:**  \n",
        "Probiere folgenden Code aus (mutable und immutable mit dataclass):\n",
        "\n",
        "### a) Mutable\n"
      ]
    },
    {
      "cell_type": "code",
      "execution_count": null,
      "id": "594d7281",
      "metadata": {
        "id": "594d7281"
      },
      "outputs": [],
      "source": [
        "from dataclasses import dataclass\n",
        "\n",
        "@dataclass\n",
        "class Person:\n",
        "    name: str\n",
        "    alter: int\n",
        "\n",
        "def birthday(person):\n",
        "    person.alter += 1\n",
        "\n",
        "p = Person(\"Alex\", 17)\n",
        "birthday(p)\n",
        "print(\"Nach Geburtstag (mutable):\", p)\n"
      ]
    },
    {
      "cell_type": "markdown",
      "id": "23a7034c",
      "metadata": {
        "id": "23a7034c"
      },
      "source": [
        "### b) Immutable\n",
        "\n",
        "Ergänze die folgende Klasse mit `frozen=True` und schreibe eine Funktion,  \n",
        "die bei einer „Geburtstag“-Simulation ein **neues** Objekt zurückgibt!\n",
        "\n",
        "Teste deine Funktion mit den Testfällen!\n"
      ]
    },
    {
      "cell_type": "code",
      "execution_count": 6,
      "id": "40e3ec23",
      "metadata": {
        "id": "40e3ec23"
      },
      "outputs": [
        {
          "name": "stdout",
          "output_type": "stream",
          "text": [
            "Alle Tests für birthday_immutable bestanden.\n"
          ]
        }
      ],
      "source": [
        "from dataclasses import dataclass\n",
        "\n",
        "@dataclass(frozen=True)\n",
        "class PersonImmutable:\n",
        "    name: str\n",
        "    alter: int\n",
        "\n",
        "def birthday_immutable(person: PersonImmutable) -> PersonImmutable:\n",
        "    return PersonImmutable(person.name, person.alter + 1)\n",
        "\n",
        "# Testfälle für birthday_immutable\n",
        "p = PersonImmutable(\"Alex\", 17)\n",
        "p2 = birthday_immutable(p)\n",
        "assert p.name == \"Alex\" and p.alter == 17\n",
        "assert p2.name == \"Alex\" and p2.alter == 18\n",
        "print(\"Alle Tests für birthday_immutable bestanden.\")\n"
      ]
    },
    {
      "cell_type": "markdown",
      "id": "3bec81d4",
      "metadata": {
        "id": "3bec81d4"
      },
      "source": [
        "**Fragen:**  \n",
        "- Was ist bei der mutable Variante passiert?\n",
        "- Was ist bei der immutable Variante anders?\n"
      ]
    },
    {
      "cell_type": "markdown",
      "id": "Cy1bztuFDtLp",
      "metadata": {
        "id": "Cy1bztuFDtLp"
      },
      "source": [
        "Das objekt wurde verändert und es hat neben efekte gegeben anders bei immutable da hat es ein neues objekt erstellt."
      ]
    },
    {
      "cell_type": "markdown",
      "id": "d688af06",
      "metadata": {
        "id": "d688af06"
      },
      "source": [
        "---\n",
        "## Reflexion\n",
        "\n",
        "**Beantworte diese Fragen in Stichworten:**\n",
        "\n",
        "- Was ist eine pure function?\n",
        "- Warum sollte man Programme möglichst ohne Seiteneffekte schreiben?\n",
        "- Was ist ein Vorteil von immutable Daten?\n",
        "\n",
        "(Antworte hier)\n"
      ]
    },
    {
      "cell_type": "markdown",
      "id": "XWxFJhKvUSfP",
      "metadata": {
        "id": "XWxFJhKvUSfP"
      },
      "source": [
        "Copyright 2025 [Markus Ineichen](mailto:markus.ineichen1@sluz.ch)\n",
        "\n",
        "Code licence: [MIT License](https://mit-license.org/)\n",
        "\n",
        "Text license: [Creative Commons Attribution-NonCommercial-ShareAlike 4.0 International](https://creativecommons.org/licenses/by-nc-sa/4.0/)"
      ]
    }
  ],
  "metadata": {
    "colab": {
      "provenance": []
    },
    "kernelspec": {
      "display_name": ".venv",
      "language": "python",
      "name": "python3"
    },
    "language_info": {
      "codemirror_mode": {
        "name": "ipython",
        "version": 3
      },
      "file_extension": ".py",
      "mimetype": "text/x-python",
      "name": "python",
      "nbconvert_exporter": "python",
      "pygments_lexer": "ipython3",
      "version": "3.13.3"
    }
  },
  "nbformat": 4,
  "nbformat_minor": 5
}
